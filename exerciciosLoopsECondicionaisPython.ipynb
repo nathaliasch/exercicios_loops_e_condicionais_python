{
  "nbformat": 4,
  "nbformat_minor": 0,
  "metadata": {
    "colab": {
      "provenance": []
    },
    "kernelspec": {
      "name": "python3",
      "display_name": "Python 3"
    },
    "language_info": {
      "name": "python"
    }
  },
  "cells": [
    {
      "cell_type": "markdown",
      "source": [
        "# Exercício 1 - Crie uma estrutura que pergunte ao usuário qual o dia da semana. Se o dia for igual a Domingo ou igual a sábado, imprima na tela \"Hoje é dia de descanso\", caso contrário imprima na tela \"Você precisa trabalhar!\""
      ],
      "metadata": {
        "id": "Mifu3ZKUkbxp"
      }
    },
    {
      "cell_type": "code",
      "source": [
        "dia = input(\"Qual é o dia da semana? \")\n",
        "\n",
        "if dia.lower() == \"sábado\" or dia.lower() == \"domingo\":\n",
        "  print(\"Hoje é dia de descanso!\")\n",
        "else:\n",
        "  print(\"Você precisa trabalhar!\") "
      ],
      "metadata": {
        "colab": {
          "base_uri": "https://localhost:8080/"
        },
        "id": "WTz2z6mpkcAf",
        "outputId": "55e50ca6-efc3-4471-fc39-9c907e03e217"
      },
      "execution_count": 4,
      "outputs": [
        {
          "output_type": "stream",
          "name": "stdout",
          "text": [
            "Qual é o dia da semana? QUINTA-FEIRA\n",
            "Você precisa trabalhar!\n"
          ]
        }
      ]
    },
    {
      "cell_type": "markdown",
      "source": [
        "# Exercício 2 - Crie uma lista de 5 frutas e verifique se a fruta 'Morango' faz parte da lista"
      ],
      "metadata": {
        "id": "McOc6Q7HkcPW"
      }
    },
    {
      "cell_type": "code",
      "source": [
        "frutas = ['Manga', 'Abacaxi', 'Kiwi', 'Morango', 'Uva']\n",
        "\n",
        "if 'Morango' in frutas:\n",
        "  print(\"Tem morango na lista.\")\n",
        "else:\n",
        "  print(\"Não tem morango!\")"
      ],
      "metadata": {
        "colab": {
          "base_uri": "https://localhost:8080/"
        },
        "id": "COaljER2kco4",
        "outputId": "07be67d3-b51a-49d6-da14-5cd24f2c1015"
      },
      "execution_count": 7,
      "outputs": [
        {
          "output_type": "stream",
          "name": "stdout",
          "text": [
            "Tem morango na lista.\n"
          ]
        }
      ]
    },
    {
      "cell_type": "markdown",
      "source": [
        "# Exercício 3 - Crie uma tupla de 4 elementos, multiplique cada elemento da tupla por 2 e guarde os resultados em uma lista"
      ],
      "metadata": {
        "id": "9aTn85mWkc3B"
      }
    },
    {
      "cell_type": "code",
      "source": [
        "tupla1 = (2, 4, 6, 8)\n",
        "\n",
        "lista1 = [x *2 for x in tupla1]\n",
        "\n",
        "print(lista1)"
      ],
      "metadata": {
        "colab": {
          "base_uri": "https://localhost:8080/"
        },
        "id": "w7UWqJ3okdH7",
        "outputId": "05ae3e0c-8c27-452d-95a4-c854d07d34cd"
      },
      "execution_count": 9,
      "outputs": [
        {
          "output_type": "stream",
          "name": "stdout",
          "text": [
            "[4, 8, 12, 16]\n"
          ]
        }
      ]
    },
    {
      "cell_type": "markdown",
      "source": [
        "# Exercício 4 - Crie uma sequência de números pares entre 100 e 150 e imprima na tela"
      ],
      "metadata": {
        "id": "OjRFmtLRkdWS"
      }
    },
    {
      "cell_type": "code",
      "source": [
        "pares = [x for x in range(100, 151, 2)]\n",
        "print(pares)"
      ],
      "metadata": {
        "colab": {
          "base_uri": "https://localhost:8080/"
        },
        "id": "hgNcZEvikdjy",
        "outputId": "58a76b6c-26f3-438a-e9be-2f01cbcac667"
      },
      "execution_count": 11,
      "outputs": [
        {
          "output_type": "stream",
          "name": "stdout",
          "text": [
            "[100, 102, 104, 106, 108, 110, 112, 114, 116, 118, 120, 122, 124, 126, 128, 130, 132, 134, 136, 138, 140, 142, 144, 146, 148, 150]\n"
          ]
        }
      ]
    },
    {
      "cell_type": "markdown",
      "source": [
        "# Exercício 5 - Crie uma variável chamada temperatura e atribua o valor 40. Enquanto temperatura for maior que 35, imprima as temperaturas na tela"
      ],
      "metadata": {
        "id": "kqT_vR7Dk6fB"
      }
    },
    {
      "cell_type": "code",
      "source": [
        "temperatura = 40\n",
        "\n",
        "while temperatura > 35:\n",
        "  print(temperatura)\n",
        "  temperatura -= 1"
      ],
      "metadata": {
        "colab": {
          "base_uri": "https://localhost:8080/"
        },
        "id": "7bxO1LUhk6rd",
        "outputId": "c155c380-1725-4638-f205-744c8ad53ac8"
      },
      "execution_count": 12,
      "outputs": [
        {
          "output_type": "stream",
          "name": "stdout",
          "text": [
            "40\n",
            "39\n",
            "38\n",
            "37\n",
            "36\n"
          ]
        }
      ]
    },
    {
      "cell_type": "markdown",
      "source": [
        "# Exercício 6 - Crie uma variável chamada contador = 0. Enquanto contador for menor que 100, imprima os valores na tela, mas quando for encontrado o valor 23, interrompa a execução do programa"
      ],
      "metadata": {
        "id": "QbPVhEm4k66F"
      }
    },
    {
      "cell_type": "code",
      "source": [
        "contador = 0\n",
        "\n",
        "while contador < 100:\n",
        "  print(contador)\n",
        "  contador +=1\n",
        "  if contador == 23:\n",
        "    break\n"
      ],
      "metadata": {
        "colab": {
          "base_uri": "https://localhost:8080/"
        },
        "id": "h7w7V9i3k7It",
        "outputId": "8e5edaa2-f8dc-49a2-e6cf-16b8fc4019ea"
      },
      "execution_count": 15,
      "outputs": [
        {
          "output_type": "stream",
          "name": "stdout",
          "text": [
            "0\n",
            "1\n",
            "2\n",
            "3\n",
            "4\n",
            "5\n",
            "6\n",
            "7\n",
            "8\n",
            "9\n",
            "10\n",
            "11\n",
            "12\n",
            "13\n",
            "14\n",
            "15\n",
            "16\n",
            "17\n",
            "18\n",
            "19\n",
            "20\n",
            "21\n",
            "22\n"
          ]
        }
      ]
    },
    {
      "cell_type": "markdown",
      "source": [
        "# Exercício 7 - Crie uma lista vazia e uma variável com valor 4. Enquanto o valor da variável for menor ou igual a 20, adicione à lista, apenas os valores pares e imprima a lista"
      ],
      "metadata": {
        "id": "21Myjewzk7YA"
      }
    },
    {
      "cell_type": "code",
      "source": [
        "lista1 = []\n",
        "a = 4\n",
        "\n",
        "while a <= 20:\n",
        "  lista1.append(a)\n",
        "  a+=2\n",
        "\n",
        "print(lista1)\n"
      ],
      "metadata": {
        "colab": {
          "base_uri": "https://localhost:8080/"
        },
        "id": "k-rjbZA4k7o-",
        "outputId": "dbd06c0b-3cd8-448f-cfc0-a52056e7463e"
      },
      "execution_count": 16,
      "outputs": [
        {
          "output_type": "stream",
          "name": "stdout",
          "text": [
            "[4, 6, 8, 10, 12, 14, 16, 18, 20]\n"
          ]
        }
      ]
    },
    {
      "cell_type": "markdown",
      "source": [
        "# Exercício 8 - Transforme o resultado desta função range em uma lista: range(5, 45, 2)\n",
        "nums = range(5, 45, 2)"
      ],
      "metadata": {
        "id": "S1b-KOzqk74h"
      }
    },
    {
      "cell_type": "code",
      "source": [
        "nums = range(5, 45, 2)\n",
        "nums_lista = list(nums)\n",
        "print(nums_lista)\n"
      ],
      "metadata": {
        "colab": {
          "base_uri": "https://localhost:8080/"
        },
        "id": "vGB9herjk8Fk",
        "outputId": "0eee119b-09d9-43ee-aaf5-25a3d6703cd1"
      },
      "execution_count": 17,
      "outputs": [
        {
          "output_type": "stream",
          "name": "stdout",
          "text": [
            "[5, 7, 9, 11, 13, 15, 17, 19, 21, 23, 25, 27, 29, 31, 33, 35, 37, 39, 41, 43]\n"
          ]
        }
      ]
    },
    {
      "cell_type": "markdown",
      "source": [
        "# Exercício 9 - Faça a correção dos erros no código abaixo e execute o programa. Dica: são 3 erros.\n",
        "temperatura = float(input('Qual a temperatura? '))\n",
        "if temperatura > 30\n",
        "print('Vista roupas leves.')\n",
        "else\n",
        "    print('Busque seus casacos.')"
      ],
      "metadata": {
        "id": "zGnW2JWmk8Uu"
      }
    },
    {
      "cell_type": "code",
      "source": [
        "temperatura = float(input(\"Qual a temperatura? \"))\n",
        "\n",
        "if temperatura > 30.0:\n",
        "  print(\"Vista roupas leves.\")\n",
        "else:\n",
        "  print(\"Busque seus casacos.\")"
      ],
      "metadata": {
        "colab": {
          "base_uri": "https://localhost:8080/"
        },
        "id": "xuSMY0wYk8gr",
        "outputId": "b47e1a5b-0753-4dbc-8795-167e1010fa6d"
      },
      "execution_count": 20,
      "outputs": [
        {
          "output_type": "stream",
          "name": "stdout",
          "text": [
            "Qual a temperatura? 29\n",
            "Busque seus casacos.\n"
          ]
        }
      ]
    },
    {
      "cell_type": "markdown",
      "source": [
        "Faça um programa que conte quantas vezes a letra \"r\" aparece na frase abaixo. Use um placeholder na  sua instrução de impressão\n",
        "\n",
        "# “A gratidão é a virtude das almas nobres. O quão feliz é uma pessoa depende da profundidade de sua gratidão.” "
      ],
      "metadata": {
        "id": "ZANOEvJXk8vC"
      }
    },
    {
      "cell_type": "code",
      "source": [
        "frase = \"A gratidão é a virtude das almas nobres. O quão feliz é uma pessoa depende da profundidade de sua gratidão.\"\n",
        "contador = 0\n",
        "\n",
        "for letra in frase:\n",
        "    if letra == 'r':\n",
        "        contador += 1\n",
        "\n",
        "print(\"A letra 'r' aparece %d vezes na frase: %s\" % (contador, frase))\n"
      ],
      "metadata": {
        "colab": {
          "base_uri": "https://localhost:8080/"
        },
        "id": "QqxGLuQh2wz6",
        "outputId": "843acad9-462b-4053-bd18-a70d25bd2c9a"
      },
      "execution_count": 23,
      "outputs": [
        {
          "output_type": "stream",
          "name": "stdout",
          "text": [
            "A letra 'r' aparece 5 vezes na frase: A gratidão é a virtude das almas nobres. O quão feliz é uma pessoa depende da profundidade de sua gratidão.\n"
          ]
        }
      ]
    }
  ]
}